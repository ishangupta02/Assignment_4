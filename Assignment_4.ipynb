{
 "cells": [
  {
   "cell_type": "markdown",
   "id": "ed79bf3c",
   "metadata": {},
   "source": [
    "# 1 What exactly is [  ] ?"
   ]
  },
  {
   "cell_type": "markdown",
   "id": "879b4c0e",
   "metadata": {},
   "source": [
    "Ans-The indexing operator (Python uses square brackets to enclose the index) selects a single character from a string."
   ]
  },
  {
   "cell_type": "markdown",
   "id": "48abeb78",
   "metadata": {},
   "source": [
    "# 2. In a list of values stored in a variable called spam, how would you assign the value 'hello' as the third value? assume[2,4,6,8,10]"
   ]
  },
  {
   "cell_type": "code",
   "execution_count": 4,
   "id": "4d1482d3",
   "metadata": {},
   "outputs": [],
   "source": [
    "spam = [2,4,6,8,10]\n",
    "\n",
    "spam[3] = 'hello'"
   ]
  },
  {
   "cell_type": "code",
   "execution_count": 5,
   "id": "e12c453a",
   "metadata": {},
   "outputs": [
    {
     "data": {
      "text/plain": [
       "[2, 4, 6, 'hello', 10]"
      ]
     },
     "execution_count": 5,
     "metadata": {},
     "output_type": "execute_result"
    }
   ],
   "source": [
    "spam"
   ]
  },
  {
   "cell_type": "markdown",
   "id": "b3935510",
   "metadata": {},
   "source": [
    "# 3. What is tha value of spam[int(int('3'*2)/11)] ?"
   ]
  },
  {
   "cell_type": "code",
   "execution_count": 6,
   "id": "acb2becf",
   "metadata": {},
   "outputs": [
    {
     "data": {
      "text/plain": [
       "'hello'"
      ]
     },
     "execution_count": 6,
     "metadata": {},
     "output_type": "execute_result"
    }
   ],
   "source": [
    "spam[int(int('3'*2)/11)]"
   ]
  },
  {
   "cell_type": "markdown",
   "id": "02ca8550",
   "metadata": {},
   "source": [
    "Ans- It gives the third element of spam."
   ]
  },
  {
   "cell_type": "markdown",
   "id": "246c43fc",
   "metadata": {},
   "source": [
    "# 4. What is the value of spam[-1] ?"
   ]
  },
  {
   "cell_type": "code",
   "execution_count": 7,
   "id": "62d268b2",
   "metadata": {},
   "outputs": [
    {
     "data": {
      "text/plain": [
       "10"
      ]
     },
     "execution_count": 7,
     "metadata": {},
     "output_type": "execute_result"
    }
   ],
   "source": [
    "spam[-1]        # it gives the element form the last position."
   ]
  },
  {
   "cell_type": "markdown",
   "id": "13528ee3",
   "metadata": {},
   "source": [
    "# 5. What is the value of spam[:2] ?"
   ]
  },
  {
   "cell_type": "code",
   "execution_count": 8,
   "id": "83c8ed15",
   "metadata": {},
   "outputs": [
    {
     "data": {
      "text/plain": [
       "[2, 4]"
      ]
     },
     "execution_count": 8,
     "metadata": {},
     "output_type": "execute_result"
    }
   ],
   "source": [
    "spam[:2]    #it gives element no. 0 , 1 and neglect element no. 2"
   ]
  },
  {
   "cell_type": "markdown",
   "id": "7a92b3c4",
   "metadata": {},
   "source": [
    "# 6. What is the value of bacon.index('cat') ?"
   ]
  },
  {
   "cell_type": "code",
   "execution_count": 18,
   "id": "4ee312a5",
   "metadata": {},
   "outputs": [
    {
     "data": {
      "text/plain": [
       "1"
      ]
     },
     "execution_count": 18,
     "metadata": {},
     "output_type": "execute_result"
    }
   ],
   "source": [
    "bacon = [3.14, 'cat', 11, 'cat', True]\n",
    "\n",
    "bacon.index('cat')          #index of cat is 1"
   ]
  },
  {
   "cell_type": "markdown",
   "id": "80c12575",
   "metadata": {},
   "source": [
    "# 7. How does bacon.append(99) change the look of the list value in bacon?"
   ]
  },
  {
   "cell_type": "code",
   "execution_count": 20,
   "id": "b9eafe76",
   "metadata": {},
   "outputs": [],
   "source": [
    "bacon.append(99)"
   ]
  },
  {
   "cell_type": "code",
   "execution_count": 21,
   "id": "5f8cb235",
   "metadata": {},
   "outputs": [
    {
     "data": {
      "text/plain": [
       "[3.14, 'cat', 11, 'cat', True, 99]"
      ]
     },
     "execution_count": 21,
     "metadata": {},
     "output_type": "execute_result"
    }
   ],
   "source": [
    "bacon         #it adds the  integer 99 to the last of the given list."
   ]
  },
  {
   "cell_type": "markdown",
   "id": "c0a50bcc",
   "metadata": {},
   "source": [
    "# 8. How does bacon.remove('cat') change the look of the list?"
   ]
  },
  {
   "cell_type": "code",
   "execution_count": 22,
   "id": "43965642",
   "metadata": {},
   "outputs": [],
   "source": [
    "bacon.remove('cat')"
   ]
  },
  {
   "cell_type": "code",
   "execution_count": 23,
   "id": "6de010de",
   "metadata": {},
   "outputs": [
    {
     "data": {
      "text/plain": [
       "[3.14, 11, 'cat', True, 99]"
      ]
     },
     "execution_count": 23,
     "metadata": {},
     "output_type": "execute_result"
    }
   ],
   "source": [
    "bacon       #it removes cat from the starting position"
   ]
  },
  {
   "cell_type": "markdown",
   "id": "48f02220",
   "metadata": {},
   "source": [
    "# 9. What are the list concatination and list replication operators?"
   ]
  },
  {
   "cell_type": "markdown",
   "id": "327c7b82",
   "metadata": {},
   "source": [
    "Ans- The operator for list concatenation is +, while the operator for replication is *."
   ]
  },
  {
   "cell_type": "markdown",
   "id": "4ddb5bd4",
   "metadata": {},
   "source": [
    "# 10. What is the difference between the list method appent() and insert()?"
   ]
  },
  {
   "cell_type": "markdown",
   "id": "00916578",
   "metadata": {},
   "source": [
    " Ans- The difference is that with append, you just add a new entry at the end of the list. With insert(position, new_entry) you can create a new entry exactly in the position you want."
   ]
  },
  {
   "cell_type": "markdown",
   "id": "e3cd00d0",
   "metadata": {},
   "source": [
    "# 11. What are the two methods for removing items from a list?"
   ]
  },
  {
   "cell_type": "markdown",
   "id": "08081408",
   "metadata": {},
   "source": [
    "Ans- The methods are remove(), pop() and clear(). It helps to remove the very first given element matching from the list. The pop() method removes an element from the list based on the index given. The clear() method will remove all the elements present in the list."
   ]
  },
  {
   "cell_type": "markdown",
   "id": "f2083713",
   "metadata": {},
   "source": [
    "# 12. Describe how list value and string value are identical."
   ]
  },
  {
   "cell_type": "markdown",
   "id": "99100d22",
   "metadata": {},
   "source": [
    "Ans- The values that make up a list are called its elements. Lists are similar to strings, which are ordered collections of characters, except that the elements of a list can have any type and for any one list, the items can be of different types."
   ]
  },
  {
   "cell_type": "markdown",
   "id": "20460da2",
   "metadata": {},
   "source": [
    "# 13. What is the difference between tuples and list?"
   ]
  },
  {
   "cell_type": "markdown",
   "id": "65c597d9",
   "metadata": {},
   "source": [
    "Ans- The primary difference between tuples and lists is that tuples are immutable as opposed to lists which are mutable. Therefore, it is possible to change a list but not a tuple. The contents of a tuple cannot change once they have been created in Python due to the immutability of tuples."
   ]
  },
  {
   "cell_type": "markdown",
   "id": "006603e5",
   "metadata": {},
   "source": [
    "# 14. How do you type a tuple value that only contains the integer 42?"
   ]
  },
  {
   "cell_type": "markdown",
   "id": "cf608351",
   "metadata": {},
   "source": [
    "(42,)"
   ]
  },
  {
   "cell_type": "markdown",
   "id": "0c808d78",
   "metadata": {},
   "source": [
    "# 15 How do you get a list value tuple form? "
   ]
  },
  {
   "cell_type": "markdown",
   "id": "679dc670",
   "metadata": {},
   "source": [
    "Ans- Python list of tuples using list comprehension and tuple() method. Python tuple() method along with List Comprehension can be used to form a list of tuples. The tuple() function helps to create tuples from the set of elements passed to it."
   ]
  },
  {
   "cell_type": "markdown",
   "id": "aaee8d49",
   "metadata": {},
   "source": [
    "# 16 Variable that contain list value are not necessarily lists themselves. Instead what do they contain?"
   ]
  },
  {
   "cell_type": "markdown",
   "id": "4205d815",
   "metadata": {},
   "source": [
    "Ans- They contain reference to the list value."
   ]
  },
  {
   "cell_type": "markdown",
   "id": "25b17e7f",
   "metadata": {},
   "source": [
    "# 17. How do you distinguish between copy.copy() and copy.deecopy() ?"
   ]
  },
  {
   "cell_type": "markdown",
   "id": "b4a95dca",
   "metadata": {},
   "source": [
    "Ans - copy() create reference to original object. If you change copied object - you change the original object. . deepcopy() creates new object and does real copying of original object to new one."
   ]
  },
  {
   "cell_type": "code",
   "execution_count": null,
   "id": "cd2f2b5c",
   "metadata": {},
   "outputs": [],
   "source": []
  }
 ],
 "metadata": {
  "kernelspec": {
   "display_name": "Python 3 (ipykernel)",
   "language": "python",
   "name": "python3"
  },
  "language_info": {
   "codemirror_mode": {
    "name": "ipython",
    "version": 3
   },
   "file_extension": ".py",
   "mimetype": "text/x-python",
   "name": "python",
   "nbconvert_exporter": "python",
   "pygments_lexer": "ipython3",
   "version": "3.9.12"
  }
 },
 "nbformat": 4,
 "nbformat_minor": 5
}
